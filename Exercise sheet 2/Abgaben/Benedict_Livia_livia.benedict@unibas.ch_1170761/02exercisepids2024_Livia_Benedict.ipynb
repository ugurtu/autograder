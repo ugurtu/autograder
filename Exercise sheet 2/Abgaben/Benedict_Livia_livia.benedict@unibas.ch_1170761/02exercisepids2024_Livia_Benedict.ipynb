{
 "cells": [
  {
   "cell_type": "markdown",
   "id": "9b0fe286",
   "metadata": {},
   "source": [
    "# Exercise sheet 2\n",
    "\n",
    "Topics of this exercise sheet are:\n",
    "\n",
    "* Work with Jupyter\n",
    "* Lecture 2: Tidy data, pandas\n",
    "\n",
    "Please let us know if you have questions or problems! <br>\n",
    "Contact us during the exercise session or on [Piazza](https://piazza.com/unibas.ch/spring2024/63982)\n",
    "\n",
    "\n",
    "**Automatic Feedback**\n",
    "\n",
    "This notebook can be automatically graded using Otter grader. To find how many points you get, simply run `grader.check_all()` from a new cell. "
   ]
  },
  {
   "cell_type": "markdown",
   "id": "52bdd705",
   "metadata": {},
   "source": [
    "### Setting up the grader\n",
    "\n",
    "Please run the following two cells to set up the grading system. "
   ]
  },
  {
   "cell_type": "code",
   "execution_count": 4,
   "id": "e4e5871c",
   "metadata": {
    "deletable": false,
    "editable": false
   },
   "outputs": [],
   "source": [
    "# Initialize Otter\n",
    "import otter\n",
    "grader = otter.Notebook(\"02-exercise-pids2024.ipynb\")"
   ]
  },
  {
   "cell_type": "code",
   "execution_count": 5,
   "id": "876e413c",
   "metadata": {},
   "outputs": [],
   "source": [
    "import numpy as np\n",
    "from pandas import DataFrame as df\n",
    "import otter\n",
    "grader = otter.Notebook()"
   ]
  },
  {
   "cell_type": "markdown",
   "id": "ff9a0ea9",
   "metadata": {},
   "source": [
    "## 1 - Tidy data (9 points)\n",
    "\n",
    "### A (2 points)\n",
    "We will use data published by the [World Bank](https://data.worldbank.org/indicator/SP.POP.TOTL) about population in countries."
   ]
  },
  {
   "cell_type": "code",
   "execution_count": 6,
   "id": "f90b39d4",
   "metadata": {},
   "outputs": [
    {
     "data": {
      "text/html": [
       "<div>\n",
       "<style scoped>\n",
       "    .dataframe tbody tr th:only-of-type {\n",
       "        vertical-align: middle;\n",
       "    }\n",
       "\n",
       "    .dataframe tbody tr th {\n",
       "        vertical-align: top;\n",
       "    }\n",
       "\n",
       "    .dataframe thead th {\n",
       "        text-align: right;\n",
       "    }\n",
       "</style>\n",
       "<table border=\"1\" class=\"dataframe\">\n",
       "  <thead>\n",
       "    <tr style=\"text-align: right;\">\n",
       "      <th></th>\n",
       "      <th>Country Name</th>\n",
       "      <th>Country Code</th>\n",
       "      <th>Indicator Name</th>\n",
       "      <th>Indicator Code</th>\n",
       "      <th>1960</th>\n",
       "      <th>1961</th>\n",
       "      <th>1962</th>\n",
       "      <th>1963</th>\n",
       "      <th>1964</th>\n",
       "      <th>1965</th>\n",
       "      <th>...</th>\n",
       "      <th>2011</th>\n",
       "      <th>2012</th>\n",
       "      <th>2013</th>\n",
       "      <th>2014</th>\n",
       "      <th>2015</th>\n",
       "      <th>2016</th>\n",
       "      <th>2017</th>\n",
       "      <th>2018</th>\n",
       "      <th>2019</th>\n",
       "      <th>2020</th>\n",
       "    </tr>\n",
       "  </thead>\n",
       "  <tbody>\n",
       "    <tr>\n",
       "      <th>0</th>\n",
       "      <td>Aruba</td>\n",
       "      <td>ABW</td>\n",
       "      <td>Population, total</td>\n",
       "      <td>SP.POP.TOTL</td>\n",
       "      <td>54208.0</td>\n",
       "      <td>55434.0</td>\n",
       "      <td>56234.0</td>\n",
       "      <td>56699.0</td>\n",
       "      <td>57029.0</td>\n",
       "      <td>57357.0</td>\n",
       "      <td>...</td>\n",
       "      <td>102050.0</td>\n",
       "      <td>102565.0</td>\n",
       "      <td>103165.0</td>\n",
       "      <td>103776.0</td>\n",
       "      <td>104339.0</td>\n",
       "      <td>104865.0</td>\n",
       "      <td>105361.0</td>\n",
       "      <td>105846.0</td>\n",
       "      <td>106310.0</td>\n",
       "      <td>106766.0</td>\n",
       "    </tr>\n",
       "    <tr>\n",
       "      <th>1</th>\n",
       "      <td>Africa Eastern and Southern</td>\n",
       "      <td>AFE</td>\n",
       "      <td>Population, total</td>\n",
       "      <td>SP.POP.TOTL</td>\n",
       "      <td>130836765.0</td>\n",
       "      <td>134159786.0</td>\n",
       "      <td>137614644.0</td>\n",
       "      <td>141202036.0</td>\n",
       "      <td>144920186.0</td>\n",
       "      <td>148769974.0</td>\n",
       "      <td>...</td>\n",
       "      <td>532760424.0</td>\n",
       "      <td>547482863.0</td>\n",
       "      <td>562601578.0</td>\n",
       "      <td>578075373.0</td>\n",
       "      <td>593871847.0</td>\n",
       "      <td>609978946.0</td>\n",
       "      <td>626392880.0</td>\n",
       "      <td>643090131.0</td>\n",
       "      <td>660046272.0</td>\n",
       "      <td>677243299.0</td>\n",
       "    </tr>\n",
       "    <tr>\n",
       "      <th>2</th>\n",
       "      <td>Afghanistan</td>\n",
       "      <td>AFG</td>\n",
       "      <td>Population, total</td>\n",
       "      <td>SP.POP.TOTL</td>\n",
       "      <td>8996967.0</td>\n",
       "      <td>9169406.0</td>\n",
       "      <td>9351442.0</td>\n",
       "      <td>9543200.0</td>\n",
       "      <td>9744772.0</td>\n",
       "      <td>9956318.0</td>\n",
       "      <td>...</td>\n",
       "      <td>30117411.0</td>\n",
       "      <td>31161378.0</td>\n",
       "      <td>32269592.0</td>\n",
       "      <td>33370804.0</td>\n",
       "      <td>34413603.0</td>\n",
       "      <td>35383028.0</td>\n",
       "      <td>36296111.0</td>\n",
       "      <td>37171922.0</td>\n",
       "      <td>38041757.0</td>\n",
       "      <td>38928341.0</td>\n",
       "    </tr>\n",
       "    <tr>\n",
       "      <th>3</th>\n",
       "      <td>Africa Western and Central</td>\n",
       "      <td>AFW</td>\n",
       "      <td>Population, total</td>\n",
       "      <td>SP.POP.TOTL</td>\n",
       "      <td>96396419.0</td>\n",
       "      <td>98407221.0</td>\n",
       "      <td>100506960.0</td>\n",
       "      <td>102691339.0</td>\n",
       "      <td>104953470.0</td>\n",
       "      <td>107289875.0</td>\n",
       "      <td>...</td>\n",
       "      <td>360285439.0</td>\n",
       "      <td>370243017.0</td>\n",
       "      <td>380437896.0</td>\n",
       "      <td>390882979.0</td>\n",
       "      <td>401586651.0</td>\n",
       "      <td>412551299.0</td>\n",
       "      <td>423769930.0</td>\n",
       "      <td>435229381.0</td>\n",
       "      <td>446911598.0</td>\n",
       "      <td>458803476.0</td>\n",
       "    </tr>\n",
       "    <tr>\n",
       "      <th>4</th>\n",
       "      <td>Angola</td>\n",
       "      <td>AGO</td>\n",
       "      <td>Population, total</td>\n",
       "      <td>SP.POP.TOTL</td>\n",
       "      <td>5454938.0</td>\n",
       "      <td>5531451.0</td>\n",
       "      <td>5608499.0</td>\n",
       "      <td>5679409.0</td>\n",
       "      <td>5734995.0</td>\n",
       "      <td>5770573.0</td>\n",
       "      <td>...</td>\n",
       "      <td>24220660.0</td>\n",
       "      <td>25107925.0</td>\n",
       "      <td>26015786.0</td>\n",
       "      <td>26941773.0</td>\n",
       "      <td>27884380.0</td>\n",
       "      <td>28842482.0</td>\n",
       "      <td>29816769.0</td>\n",
       "      <td>30809787.0</td>\n",
       "      <td>31825299.0</td>\n",
       "      <td>32866268.0</td>\n",
       "    </tr>\n",
       "  </tbody>\n",
       "</table>\n",
       "<p>5 rows × 65 columns</p>\n",
       "</div>"
      ],
      "text/plain": [
       "                  Country Name Country Code     Indicator Name Indicator Code  \\\n",
       "0                        Aruba          ABW  Population, total    SP.POP.TOTL   \n",
       "1  Africa Eastern and Southern          AFE  Population, total    SP.POP.TOTL   \n",
       "2                  Afghanistan          AFG  Population, total    SP.POP.TOTL   \n",
       "3   Africa Western and Central          AFW  Population, total    SP.POP.TOTL   \n",
       "4                       Angola          AGO  Population, total    SP.POP.TOTL   \n",
       "\n",
       "          1960         1961         1962         1963         1964  \\\n",
       "0      54208.0      55434.0      56234.0      56699.0      57029.0   \n",
       "1  130836765.0  134159786.0  137614644.0  141202036.0  144920186.0   \n",
       "2    8996967.0    9169406.0    9351442.0    9543200.0    9744772.0   \n",
       "3   96396419.0   98407221.0  100506960.0  102691339.0  104953470.0   \n",
       "4    5454938.0    5531451.0    5608499.0    5679409.0    5734995.0   \n",
       "\n",
       "          1965  ...         2011         2012         2013         2014  \\\n",
       "0      57357.0  ...     102050.0     102565.0     103165.0     103776.0   \n",
       "1  148769974.0  ...  532760424.0  547482863.0  562601578.0  578075373.0   \n",
       "2    9956318.0  ...   30117411.0   31161378.0   32269592.0   33370804.0   \n",
       "3  107289875.0  ...  360285439.0  370243017.0  380437896.0  390882979.0   \n",
       "4    5770573.0  ...   24220660.0   25107925.0   26015786.0   26941773.0   \n",
       "\n",
       "          2015         2016         2017         2018         2019  \\\n",
       "0     104339.0     104865.0     105361.0     105846.0     106310.0   \n",
       "1  593871847.0  609978946.0  626392880.0  643090131.0  660046272.0   \n",
       "2   34413603.0   35383028.0   36296111.0   37171922.0   38041757.0   \n",
       "3  401586651.0  412551299.0  423769930.0  435229381.0  446911598.0   \n",
       "4   27884380.0   28842482.0   29816769.0   30809787.0   31825299.0   \n",
       "\n",
       "          2020  \n",
       "0     106766.0  \n",
       "1  677243299.0  \n",
       "2   38928341.0  \n",
       "3  458803476.0  \n",
       "4   32866268.0  \n",
       "\n",
       "[5 rows x 65 columns]"
      ]
     },
     "execution_count": 6,
     "metadata": {},
     "output_type": "execute_result"
    }
   ],
   "source": [
    "import pandas as pd\n",
    "\n",
    "population = pd.read_csv(\"population_data.csv\", skiprows=3).dropna(how='all', axis=1)\n",
    "population.head()"
   ]
  },
  {
   "cell_type": "markdown",
   "id": "6837b280",
   "metadata": {},
   "source": [
    "**Question 1**:\n",
    "Manipulate the dataframe \"population\" to be tidy. Currently, column headers are values, not variable names.\n",
    "\n",
    "* Make a new dataframe \"population_melted\" that contains the same data as \"population\", but\n",
    "    * it has a new column \"Year\" containing the year of the observation\n",
    "    * it has a new column \"Population\" containing the number of inhabitants of the country in this year\n",
    "    * otherwise, it has exactly the same columns and data as \"population\"\n",
    "*Hint*: you can use 'pd.melt'."
   ]
  },
  {
   "cell_type": "code",
   "execution_count": 7,
   "id": "11ae136a",
   "metadata": {},
   "outputs": [
    {
     "data": {
      "text/html": [
       "<div>\n",
       "<style scoped>\n",
       "    .dataframe tbody tr th:only-of-type {\n",
       "        vertical-align: middle;\n",
       "    }\n",
       "\n",
       "    .dataframe tbody tr th {\n",
       "        vertical-align: top;\n",
       "    }\n",
       "\n",
       "    .dataframe thead th {\n",
       "        text-align: right;\n",
       "    }\n",
       "</style>\n",
       "<table border=\"1\" class=\"dataframe\">\n",
       "  <thead>\n",
       "    <tr style=\"text-align: right;\">\n",
       "      <th></th>\n",
       "      <th>Country Name</th>\n",
       "      <th>Country Code</th>\n",
       "      <th>Indicator Code</th>\n",
       "      <th>Year</th>\n",
       "      <th>Population</th>\n",
       "    </tr>\n",
       "  </thead>\n",
       "  <tbody>\n",
       "    <tr>\n",
       "      <th>0</th>\n",
       "      <td>Aruba</td>\n",
       "      <td>ABW</td>\n",
       "      <td>SP.POP.TOTL</td>\n",
       "      <td>1960</td>\n",
       "      <td>54208.0</td>\n",
       "    </tr>\n",
       "    <tr>\n",
       "      <th>1</th>\n",
       "      <td>Africa Eastern and Southern</td>\n",
       "      <td>AFE</td>\n",
       "      <td>SP.POP.TOTL</td>\n",
       "      <td>1960</td>\n",
       "      <td>130836765.0</td>\n",
       "    </tr>\n",
       "    <tr>\n",
       "      <th>2</th>\n",
       "      <td>Afghanistan</td>\n",
       "      <td>AFG</td>\n",
       "      <td>SP.POP.TOTL</td>\n",
       "      <td>1960</td>\n",
       "      <td>8996967.0</td>\n",
       "    </tr>\n",
       "    <tr>\n",
       "      <th>3</th>\n",
       "      <td>Africa Western and Central</td>\n",
       "      <td>AFW</td>\n",
       "      <td>SP.POP.TOTL</td>\n",
       "      <td>1960</td>\n",
       "      <td>96396419.0</td>\n",
       "    </tr>\n",
       "    <tr>\n",
       "      <th>4</th>\n",
       "      <td>Angola</td>\n",
       "      <td>AGO</td>\n",
       "      <td>SP.POP.TOTL</td>\n",
       "      <td>1960</td>\n",
       "      <td>5454938.0</td>\n",
       "    </tr>\n",
       "    <tr>\n",
       "      <th>...</th>\n",
       "      <td>...</td>\n",
       "      <td>...</td>\n",
       "      <td>...</td>\n",
       "      <td>...</td>\n",
       "      <td>...</td>\n",
       "    </tr>\n",
       "    <tr>\n",
       "      <th>16221</th>\n",
       "      <td>Kosovo</td>\n",
       "      <td>XKX</td>\n",
       "      <td>SP.POP.TOTL</td>\n",
       "      <td>2020</td>\n",
       "      <td>1775378.0</td>\n",
       "    </tr>\n",
       "    <tr>\n",
       "      <th>16222</th>\n",
       "      <td>Yemen, Rep.</td>\n",
       "      <td>YEM</td>\n",
       "      <td>SP.POP.TOTL</td>\n",
       "      <td>2020</td>\n",
       "      <td>29825968.0</td>\n",
       "    </tr>\n",
       "    <tr>\n",
       "      <th>16223</th>\n",
       "      <td>South Africa</td>\n",
       "      <td>ZAF</td>\n",
       "      <td>SP.POP.TOTL</td>\n",
       "      <td>2020</td>\n",
       "      <td>59308690.0</td>\n",
       "    </tr>\n",
       "    <tr>\n",
       "      <th>16224</th>\n",
       "      <td>Zambia</td>\n",
       "      <td>ZMB</td>\n",
       "      <td>SP.POP.TOTL</td>\n",
       "      <td>2020</td>\n",
       "      <td>18383956.0</td>\n",
       "    </tr>\n",
       "    <tr>\n",
       "      <th>16225</th>\n",
       "      <td>Zimbabwe</td>\n",
       "      <td>ZWE</td>\n",
       "      <td>SP.POP.TOTL</td>\n",
       "      <td>2020</td>\n",
       "      <td>14862927.0</td>\n",
       "    </tr>\n",
       "  </tbody>\n",
       "</table>\n",
       "<p>16226 rows × 5 columns</p>\n",
       "</div>"
      ],
      "text/plain": [
       "                      Country Name Country Code Indicator Code  Year  \\\n",
       "0                            Aruba          ABW    SP.POP.TOTL  1960   \n",
       "1      Africa Eastern and Southern          AFE    SP.POP.TOTL  1960   \n",
       "2                      Afghanistan          AFG    SP.POP.TOTL  1960   \n",
       "3       Africa Western and Central          AFW    SP.POP.TOTL  1960   \n",
       "4                           Angola          AGO    SP.POP.TOTL  1960   \n",
       "...                            ...          ...            ...   ...   \n",
       "16221                       Kosovo          XKX    SP.POP.TOTL  2020   \n",
       "16222                  Yemen, Rep.          YEM    SP.POP.TOTL  2020   \n",
       "16223                 South Africa          ZAF    SP.POP.TOTL  2020   \n",
       "16224                       Zambia          ZMB    SP.POP.TOTL  2020   \n",
       "16225                     Zimbabwe          ZWE    SP.POP.TOTL  2020   \n",
       "\n",
       "        Population  \n",
       "0          54208.0  \n",
       "1      130836765.0  \n",
       "2        8996967.0  \n",
       "3       96396419.0  \n",
       "4        5454938.0  \n",
       "...            ...  \n",
       "16221    1775378.0  \n",
       "16222   29825968.0  \n",
       "16223   59308690.0  \n",
       "16224   18383956.0  \n",
       "16225   14862927.0  \n",
       "\n",
       "[16226 rows x 5 columns]"
      ]
     },
     "metadata": {},
     "output_type": "display_data"
    }
   ],
   "source": [
    "class Question1:\n",
    "    population_melted = pd.melt(population, \n",
    "                                id_vars=[\"Country Name\",\"Country Code\", \"Indicator Code\"], \n",
    "                                value_vars=population.columns[4:],\n",
    "                                var_name=\"Year\",\n",
    "                                value_name=\"Population\")\n",
    "    display(population_melted)"
   ]
  },
  {
   "cell_type": "code",
   "execution_count": 8,
   "id": "de51688c",
   "metadata": {
    "deletable": false,
    "editable": false
   },
   "outputs": [
    {
     "data": {
      "text/html": [
       "<p><strong><pre style='display: inline;'>Question 1</pre></strong> passed! 🙌</p>"
      ],
      "text/plain": [
       "Question 1 results: All test cases passed!"
      ]
     },
     "execution_count": 8,
     "metadata": {},
     "output_type": "execute_result"
    }
   ],
   "source": [
    "grader.check(\"Question 1\")"
   ]
  },
  {
   "cell_type": "markdown",
   "id": "fe8c6c63",
   "metadata": {},
   "source": [
    "**Question 2**: Sort the dataframe population_melted by \"Country Name\" and \"Year\""
   ]
  },
  {
   "cell_type": "code",
   "execution_count": 9,
   "id": "c96ab372",
   "metadata": {},
   "outputs": [
    {
     "data": {
      "text/html": [
       "<div>\n",
       "<style scoped>\n",
       "    .dataframe tbody tr th:only-of-type {\n",
       "        vertical-align: middle;\n",
       "    }\n",
       "\n",
       "    .dataframe tbody tr th {\n",
       "        vertical-align: top;\n",
       "    }\n",
       "\n",
       "    .dataframe thead th {\n",
       "        text-align: right;\n",
       "    }\n",
       "</style>\n",
       "<table border=\"1\" class=\"dataframe\">\n",
       "  <thead>\n",
       "    <tr style=\"text-align: right;\">\n",
       "      <th></th>\n",
       "      <th>Country Name</th>\n",
       "      <th>Country Code</th>\n",
       "      <th>Indicator Code</th>\n",
       "      <th>Year</th>\n",
       "      <th>Population</th>\n",
       "    </tr>\n",
       "  </thead>\n",
       "  <tbody>\n",
       "    <tr>\n",
       "      <th>2</th>\n",
       "      <td>Afghanistan</td>\n",
       "      <td>AFG</td>\n",
       "      <td>SP.POP.TOTL</td>\n",
       "      <td>1960</td>\n",
       "      <td>8996967.0</td>\n",
       "    </tr>\n",
       "    <tr>\n",
       "      <th>268</th>\n",
       "      <td>Afghanistan</td>\n",
       "      <td>AFG</td>\n",
       "      <td>SP.POP.TOTL</td>\n",
       "      <td>1961</td>\n",
       "      <td>9169406.0</td>\n",
       "    </tr>\n",
       "    <tr>\n",
       "      <th>534</th>\n",
       "      <td>Afghanistan</td>\n",
       "      <td>AFG</td>\n",
       "      <td>SP.POP.TOTL</td>\n",
       "      <td>1962</td>\n",
       "      <td>9351442.0</td>\n",
       "    </tr>\n",
       "    <tr>\n",
       "      <th>800</th>\n",
       "      <td>Afghanistan</td>\n",
       "      <td>AFG</td>\n",
       "      <td>SP.POP.TOTL</td>\n",
       "      <td>1963</td>\n",
       "      <td>9543200.0</td>\n",
       "    </tr>\n",
       "    <tr>\n",
       "      <th>1066</th>\n",
       "      <td>Afghanistan</td>\n",
       "      <td>AFG</td>\n",
       "      <td>SP.POP.TOTL</td>\n",
       "      <td>1964</td>\n",
       "      <td>9744772.0</td>\n",
       "    </tr>\n",
       "    <tr>\n",
       "      <th>...</th>\n",
       "      <td>...</td>\n",
       "      <td>...</td>\n",
       "      <td>...</td>\n",
       "      <td>...</td>\n",
       "      <td>...</td>\n",
       "    </tr>\n",
       "    <tr>\n",
       "      <th>15161</th>\n",
       "      <td>Zimbabwe</td>\n",
       "      <td>ZWE</td>\n",
       "      <td>SP.POP.TOTL</td>\n",
       "      <td>2016</td>\n",
       "      <td>14030338.0</td>\n",
       "    </tr>\n",
       "    <tr>\n",
       "      <th>15427</th>\n",
       "      <td>Zimbabwe</td>\n",
       "      <td>ZWE</td>\n",
       "      <td>SP.POP.TOTL</td>\n",
       "      <td>2017</td>\n",
       "      <td>14236599.0</td>\n",
       "    </tr>\n",
       "    <tr>\n",
       "      <th>15693</th>\n",
       "      <td>Zimbabwe</td>\n",
       "      <td>ZWE</td>\n",
       "      <td>SP.POP.TOTL</td>\n",
       "      <td>2018</td>\n",
       "      <td>14438812.0</td>\n",
       "    </tr>\n",
       "    <tr>\n",
       "      <th>15959</th>\n",
       "      <td>Zimbabwe</td>\n",
       "      <td>ZWE</td>\n",
       "      <td>SP.POP.TOTL</td>\n",
       "      <td>2019</td>\n",
       "      <td>14645473.0</td>\n",
       "    </tr>\n",
       "    <tr>\n",
       "      <th>16225</th>\n",
       "      <td>Zimbabwe</td>\n",
       "      <td>ZWE</td>\n",
       "      <td>SP.POP.TOTL</td>\n",
       "      <td>2020</td>\n",
       "      <td>14862927.0</td>\n",
       "    </tr>\n",
       "  </tbody>\n",
       "</table>\n",
       "<p>16226 rows × 5 columns</p>\n",
       "</div>"
      ],
      "text/plain": [
       "      Country Name Country Code Indicator Code  Year  Population\n",
       "2      Afghanistan          AFG    SP.POP.TOTL  1960   8996967.0\n",
       "268    Afghanistan          AFG    SP.POP.TOTL  1961   9169406.0\n",
       "534    Afghanistan          AFG    SP.POP.TOTL  1962   9351442.0\n",
       "800    Afghanistan          AFG    SP.POP.TOTL  1963   9543200.0\n",
       "1066   Afghanistan          AFG    SP.POP.TOTL  1964   9744772.0\n",
       "...            ...          ...            ...   ...         ...\n",
       "15161     Zimbabwe          ZWE    SP.POP.TOTL  2016  14030338.0\n",
       "15427     Zimbabwe          ZWE    SP.POP.TOTL  2017  14236599.0\n",
       "15693     Zimbabwe          ZWE    SP.POP.TOTL  2018  14438812.0\n",
       "15959     Zimbabwe          ZWE    SP.POP.TOTL  2019  14645473.0\n",
       "16225     Zimbabwe          ZWE    SP.POP.TOTL  2020  14862927.0\n",
       "\n",
       "[16226 rows x 5 columns]"
      ]
     },
     "metadata": {},
     "output_type": "display_data"
    }
   ],
   "source": [
    "class Question2:\n",
    "    # You can access the population from above as \n",
    "    # Question1.population_melted\n",
    "    population_melted_sort = Question1.population_melted.sort_values(by=[\"Country Name\",\"Year\"])\n",
    "    display(population_melted_sort)"
   ]
  },
  {
   "cell_type": "code",
   "execution_count": 10,
   "id": "3b044e80",
   "metadata": {
    "deletable": false,
    "editable": false
   },
   "outputs": [
    {
     "data": {
      "text/html": [
       "<p><strong><pre style='display: inline;'>Question 2</pre></strong> passed! 🎉</p>"
      ],
      "text/plain": [
       "Question 2 results: All test cases passed!"
      ]
     },
     "execution_count": 10,
     "metadata": {},
     "output_type": "execute_result"
    }
   ],
   "source": [
    "grader.check(\"Question 2\")"
   ]
  },
  {
   "cell_type": "markdown",
   "id": "b463f0c6",
   "metadata": {},
   "source": [
    "### B (3 points)\n",
    "We will use data about the average height in countries around the world. It comes from [Kaggle](https://www.kaggle.com/majyhain/height-of-male-and-female-by-country-2022)."
   ]
  },
  {
   "cell_type": "code",
   "execution_count": 11,
   "id": "1ac76155",
   "metadata": {},
   "outputs": [
    {
     "data": {
      "text/html": [
       "<div>\n",
       "<style scoped>\n",
       "    .dataframe tbody tr th:only-of-type {\n",
       "        vertical-align: middle;\n",
       "    }\n",
       "\n",
       "    .dataframe tbody tr th {\n",
       "        vertical-align: top;\n",
       "    }\n",
       "\n",
       "    .dataframe thead th {\n",
       "        text-align: right;\n",
       "    }\n",
       "</style>\n",
       "<table border=\"1\" class=\"dataframe\">\n",
       "  <thead>\n",
       "    <tr style=\"text-align: right;\">\n",
       "      <th></th>\n",
       "      <th>Rank</th>\n",
       "      <th>Country Name</th>\n",
       "      <th>Male Height in Cm</th>\n",
       "      <th>Female Height in Cm</th>\n",
       "      <th>Male Height in Ft</th>\n",
       "      <th>Female Height in Ft</th>\n",
       "    </tr>\n",
       "  </thead>\n",
       "  <tbody>\n",
       "    <tr>\n",
       "      <th>0</th>\n",
       "      <td>1</td>\n",
       "      <td>Netherlands</td>\n",
       "      <td>183.78</td>\n",
       "      <td>170.36</td>\n",
       "      <td>6.03</td>\n",
       "      <td>5.59</td>\n",
       "    </tr>\n",
       "    <tr>\n",
       "      <th>1</th>\n",
       "      <td>2</td>\n",
       "      <td>Montenegro</td>\n",
       "      <td>183.30</td>\n",
       "      <td>169.96</td>\n",
       "      <td>6.01</td>\n",
       "      <td>5.58</td>\n",
       "    </tr>\n",
       "    <tr>\n",
       "      <th>2</th>\n",
       "      <td>3</td>\n",
       "      <td>Estonia</td>\n",
       "      <td>182.79</td>\n",
       "      <td>168.66</td>\n",
       "      <td>6.00</td>\n",
       "      <td>5.53</td>\n",
       "    </tr>\n",
       "    <tr>\n",
       "      <th>3</th>\n",
       "      <td>4</td>\n",
       "      <td>Bosnia and Herzegovina</td>\n",
       "      <td>182.47</td>\n",
       "      <td>167.47</td>\n",
       "      <td>5.99</td>\n",
       "      <td>5.49</td>\n",
       "    </tr>\n",
       "    <tr>\n",
       "      <th>4</th>\n",
       "      <td>5</td>\n",
       "      <td>Iceland</td>\n",
       "      <td>182.10</td>\n",
       "      <td>168.91</td>\n",
       "      <td>5.97</td>\n",
       "      <td>5.54</td>\n",
       "    </tr>\n",
       "    <tr>\n",
       "      <th>...</th>\n",
       "      <td>...</td>\n",
       "      <td>...</td>\n",
       "      <td>...</td>\n",
       "      <td>...</td>\n",
       "      <td>...</td>\n",
       "      <td>...</td>\n",
       "    </tr>\n",
       "    <tr>\n",
       "      <th>193</th>\n",
       "      <td>194</td>\n",
       "      <td>Guatemala</td>\n",
       "      <td>164.36</td>\n",
       "      <td>150.91</td>\n",
       "      <td>5.39</td>\n",
       "      <td>4.95</td>\n",
       "    </tr>\n",
       "    <tr>\n",
       "      <th>194</th>\n",
       "      <td>195</td>\n",
       "      <td>Mozambique</td>\n",
       "      <td>164.30</td>\n",
       "      <td>155.42</td>\n",
       "      <td>5.39</td>\n",
       "      <td>5.10</td>\n",
       "    </tr>\n",
       "    <tr>\n",
       "      <th>195</th>\n",
       "      <td>196</td>\n",
       "      <td>Papua New Guinea</td>\n",
       "      <td>163.10</td>\n",
       "      <td>156.89</td>\n",
       "      <td>5.35</td>\n",
       "      <td>5.15</td>\n",
       "    </tr>\n",
       "    <tr>\n",
       "      <th>196</th>\n",
       "      <td>197</td>\n",
       "      <td>Solomon Islands</td>\n",
       "      <td>163.07</td>\n",
       "      <td>156.79</td>\n",
       "      <td>5.35</td>\n",
       "      <td>5.14</td>\n",
       "    </tr>\n",
       "    <tr>\n",
       "      <th>197</th>\n",
       "      <td>198</td>\n",
       "      <td>Laos</td>\n",
       "      <td>162.78</td>\n",
       "      <td>153.10</td>\n",
       "      <td>5.34</td>\n",
       "      <td>5.02</td>\n",
       "    </tr>\n",
       "  </tbody>\n",
       "</table>\n",
       "<p>198 rows × 6 columns</p>\n",
       "</div>"
      ],
      "text/plain": [
       "     Rank            Country Name  Male Height in Cm  Female Height in Cm  \\\n",
       "0       1             Netherlands             183.78               170.36   \n",
       "1       2              Montenegro             183.30               169.96   \n",
       "2       3                 Estonia             182.79               168.66   \n",
       "3       4  Bosnia and Herzegovina             182.47               167.47   \n",
       "4       5                 Iceland             182.10               168.91   \n",
       "..    ...                     ...                ...                  ...   \n",
       "193   194               Guatemala             164.36               150.91   \n",
       "194   195              Mozambique             164.30               155.42   \n",
       "195   196        Papua New Guinea             163.10               156.89   \n",
       "196   197         Solomon Islands             163.07               156.79   \n",
       "197   198                    Laos             162.78               153.10   \n",
       "\n",
       "     Male Height in Ft  Female Height in Ft  \n",
       "0                 6.03                 5.59  \n",
       "1                 6.01                 5.58  \n",
       "2                 6.00                 5.53  \n",
       "3                 5.99                 5.49  \n",
       "4                 5.97                 5.54  \n",
       "..                 ...                  ...  \n",
       "193               5.39                 4.95  \n",
       "194               5.39                 5.10  \n",
       "195               5.35                 5.15  \n",
       "196               5.35                 5.14  \n",
       "197               5.34                 5.02  \n",
       "\n",
       "[198 rows x 6 columns]"
      ]
     },
     "execution_count": 11,
     "metadata": {},
     "output_type": "execute_result"
    }
   ],
   "source": [
    "height = pd.read_csv(\"height_2022.csv\")\n",
    "height.head(-1)"
   ]
  },
  {
   "cell_type": "markdown",
   "id": "47ada30b",
   "metadata": {},
   "source": [
    "**Question 3**: Make a new dataframe \"height_tidy\" where you removed the columns \"Male Height in Ft\", \"Female Height in Ft\""
   ]
  },
  {
   "cell_type": "code",
   "execution_count": 12,
   "id": "56ff1fe9",
   "metadata": {},
   "outputs": [
    {
     "data": {
      "text/html": [
       "<div>\n",
       "<style scoped>\n",
       "    .dataframe tbody tr th:only-of-type {\n",
       "        vertical-align: middle;\n",
       "    }\n",
       "\n",
       "    .dataframe tbody tr th {\n",
       "        vertical-align: top;\n",
       "    }\n",
       "\n",
       "    .dataframe thead th {\n",
       "        text-align: right;\n",
       "    }\n",
       "</style>\n",
       "<table border=\"1\" class=\"dataframe\">\n",
       "  <thead>\n",
       "    <tr style=\"text-align: right;\">\n",
       "      <th></th>\n",
       "      <th>Rank</th>\n",
       "      <th>Country Name</th>\n",
       "      <th>Male Height in Cm</th>\n",
       "      <th>Female Height in Cm</th>\n",
       "    </tr>\n",
       "  </thead>\n",
       "  <tbody>\n",
       "    <tr>\n",
       "      <th>0</th>\n",
       "      <td>1</td>\n",
       "      <td>Netherlands</td>\n",
       "      <td>183.78</td>\n",
       "      <td>170.36</td>\n",
       "    </tr>\n",
       "    <tr>\n",
       "      <th>1</th>\n",
       "      <td>2</td>\n",
       "      <td>Montenegro</td>\n",
       "      <td>183.30</td>\n",
       "      <td>169.96</td>\n",
       "    </tr>\n",
       "    <tr>\n",
       "      <th>2</th>\n",
       "      <td>3</td>\n",
       "      <td>Estonia</td>\n",
       "      <td>182.79</td>\n",
       "      <td>168.66</td>\n",
       "    </tr>\n",
       "    <tr>\n",
       "      <th>3</th>\n",
       "      <td>4</td>\n",
       "      <td>Bosnia and Herzegovina</td>\n",
       "      <td>182.47</td>\n",
       "      <td>167.47</td>\n",
       "    </tr>\n",
       "    <tr>\n",
       "      <th>4</th>\n",
       "      <td>5</td>\n",
       "      <td>Iceland</td>\n",
       "      <td>182.10</td>\n",
       "      <td>168.91</td>\n",
       "    </tr>\n",
       "    <tr>\n",
       "      <th>...</th>\n",
       "      <td>...</td>\n",
       "      <td>...</td>\n",
       "      <td>...</td>\n",
       "      <td>...</td>\n",
       "    </tr>\n",
       "    <tr>\n",
       "      <th>194</th>\n",
       "      <td>195</td>\n",
       "      <td>Mozambique</td>\n",
       "      <td>164.30</td>\n",
       "      <td>155.42</td>\n",
       "    </tr>\n",
       "    <tr>\n",
       "      <th>195</th>\n",
       "      <td>196</td>\n",
       "      <td>Papua New Guinea</td>\n",
       "      <td>163.10</td>\n",
       "      <td>156.89</td>\n",
       "    </tr>\n",
       "    <tr>\n",
       "      <th>196</th>\n",
       "      <td>197</td>\n",
       "      <td>Solomon Islands</td>\n",
       "      <td>163.07</td>\n",
       "      <td>156.79</td>\n",
       "    </tr>\n",
       "    <tr>\n",
       "      <th>197</th>\n",
       "      <td>198</td>\n",
       "      <td>Laos</td>\n",
       "      <td>162.78</td>\n",
       "      <td>153.10</td>\n",
       "    </tr>\n",
       "    <tr>\n",
       "      <th>198</th>\n",
       "      <td>199</td>\n",
       "      <td>Timor-Leste</td>\n",
       "      <td>160.13</td>\n",
       "      <td>152.71</td>\n",
       "    </tr>\n",
       "  </tbody>\n",
       "</table>\n",
       "<p>199 rows × 4 columns</p>\n",
       "</div>"
      ],
      "text/plain": [
       "     Rank            Country Name  Male Height in Cm  Female Height in Cm\n",
       "0       1             Netherlands             183.78               170.36\n",
       "1       2              Montenegro             183.30               169.96\n",
       "2       3                 Estonia             182.79               168.66\n",
       "3       4  Bosnia and Herzegovina             182.47               167.47\n",
       "4       5                 Iceland             182.10               168.91\n",
       "..    ...                     ...                ...                  ...\n",
       "194   195              Mozambique             164.30               155.42\n",
       "195   196        Papua New Guinea             163.10               156.89\n",
       "196   197         Solomon Islands             163.07               156.79\n",
       "197   198                    Laos             162.78               153.10\n",
       "198   199             Timor-Leste             160.13               152.71\n",
       "\n",
       "[199 rows x 4 columns]"
      ]
     },
     "metadata": {},
     "output_type": "display_data"
    }
   ],
   "source": [
    "class Question3:\n",
    "    height_tidy = height.drop(columns=[\"Male Height in Ft\", \"Female Height in Ft\"])\n",
    "    display(height_tidy)"
   ]
  },
  {
   "cell_type": "code",
   "execution_count": 13,
   "id": "7e3767a0",
   "metadata": {
    "deletable": false,
    "editable": false
   },
   "outputs": [
    {
     "data": {
      "text/html": [
       "<p><strong><pre style='display: inline;'>Question 3</pre></strong> passed! ✨</p>"
      ],
      "text/plain": [
       "Question 3 results: All test cases passed!"
      ]
     },
     "execution_count": 13,
     "metadata": {},
     "output_type": "execute_result"
    }
   ],
   "source": [
    "grader.check(\"Question 3\")"
   ]
  },
  {
   "cell_type": "markdown",
   "id": "07382104",
   "metadata": {},
   "source": [
    "**Question 4**: Manipulate the dataframe \"height_tidy\" to be tidy. Currently, multiple variables are stored in one column.\n",
    "\n",
    "* Make a new dataframe \"height_melt\" that contains the same data as \"height_tidy\", but\n",
    "    * it has a new column \"Sex\" containing a single character \"M\" or \"F\" for \"male\"/\"female\"\n",
    "    * it has a new column \"Height in Cm\" containing data about the height in cm"
   ]
  },
  {
   "cell_type": "code",
   "execution_count": 67,
   "id": "d6a9c86a",
   "metadata": {
    "nbgrader": {
     "grade": false,
     "grade_id": "cell-b774d9d556851043",
     "locked": false,
     "schema_version": 3,
     "solution": true,
     "task": false
    }
   },
   "outputs": [
    {
     "data": {
      "text/html": [
       "<div>\n",
       "<style scoped>\n",
       "    .dataframe tbody tr th:only-of-type {\n",
       "        vertical-align: middle;\n",
       "    }\n",
       "\n",
       "    .dataframe tbody tr th {\n",
       "        vertical-align: top;\n",
       "    }\n",
       "\n",
       "    .dataframe thead th {\n",
       "        text-align: right;\n",
       "    }\n",
       "</style>\n",
       "<table border=\"1\" class=\"dataframe\">\n",
       "  <thead>\n",
       "    <tr style=\"text-align: right;\">\n",
       "      <th></th>\n",
       "      <th>Rank</th>\n",
       "      <th>Country Name</th>\n",
       "      <th>Height in Cm</th>\n",
       "      <th>Sex</th>\n",
       "    </tr>\n",
       "  </thead>\n",
       "  <tbody>\n",
       "    <tr>\n",
       "      <th>0</th>\n",
       "      <td>1</td>\n",
       "      <td>Netherlands</td>\n",
       "      <td>183.78</td>\n",
       "      <td>M</td>\n",
       "    </tr>\n",
       "    <tr>\n",
       "      <th>1</th>\n",
       "      <td>2</td>\n",
       "      <td>Montenegro</td>\n",
       "      <td>183.30</td>\n",
       "      <td>M</td>\n",
       "    </tr>\n",
       "    <tr>\n",
       "      <th>2</th>\n",
       "      <td>3</td>\n",
       "      <td>Estonia</td>\n",
       "      <td>182.79</td>\n",
       "      <td>M</td>\n",
       "    </tr>\n",
       "    <tr>\n",
       "      <th>3</th>\n",
       "      <td>4</td>\n",
       "      <td>Bosnia and Herzegovina</td>\n",
       "      <td>182.47</td>\n",
       "      <td>M</td>\n",
       "    </tr>\n",
       "    <tr>\n",
       "      <th>4</th>\n",
       "      <td>5</td>\n",
       "      <td>Iceland</td>\n",
       "      <td>182.10</td>\n",
       "      <td>M</td>\n",
       "    </tr>\n",
       "    <tr>\n",
       "      <th>...</th>\n",
       "      <td>...</td>\n",
       "      <td>...</td>\n",
       "      <td>...</td>\n",
       "      <td>...</td>\n",
       "    </tr>\n",
       "    <tr>\n",
       "      <th>393</th>\n",
       "      <td>195</td>\n",
       "      <td>Mozambique</td>\n",
       "      <td>155.42</td>\n",
       "      <td>F</td>\n",
       "    </tr>\n",
       "    <tr>\n",
       "      <th>394</th>\n",
       "      <td>196</td>\n",
       "      <td>Papua New Guinea</td>\n",
       "      <td>156.89</td>\n",
       "      <td>F</td>\n",
       "    </tr>\n",
       "    <tr>\n",
       "      <th>395</th>\n",
       "      <td>197</td>\n",
       "      <td>Solomon Islands</td>\n",
       "      <td>156.79</td>\n",
       "      <td>F</td>\n",
       "    </tr>\n",
       "    <tr>\n",
       "      <th>396</th>\n",
       "      <td>198</td>\n",
       "      <td>Laos</td>\n",
       "      <td>153.10</td>\n",
       "      <td>F</td>\n",
       "    </tr>\n",
       "    <tr>\n",
       "      <th>397</th>\n",
       "      <td>199</td>\n",
       "      <td>Timor-Leste</td>\n",
       "      <td>152.71</td>\n",
       "      <td>F</td>\n",
       "    </tr>\n",
       "  </tbody>\n",
       "</table>\n",
       "<p>398 rows × 4 columns</p>\n",
       "</div>"
      ],
      "text/plain": [
       "     Rank            Country Name  Height in Cm Sex\n",
       "0       1             Netherlands        183.78   M\n",
       "1       2              Montenegro        183.30   M\n",
       "2       3                 Estonia        182.79   M\n",
       "3       4  Bosnia and Herzegovina        182.47   M\n",
       "4       5                 Iceland        182.10   M\n",
       "..    ...                     ...           ...  ..\n",
       "393   195              Mozambique        155.42   F\n",
       "394   196        Papua New Guinea        156.89   F\n",
       "395   197         Solomon Islands        156.79   F\n",
       "396   198                    Laos        153.10   F\n",
       "397   199             Timor-Leste        152.71   F\n",
       "\n",
       "[398 rows x 4 columns]"
      ]
     },
     "metadata": {},
     "output_type": "display_data"
    }
   ],
   "source": [
    "class Question4:\n",
    "    \n",
    "    # You can access height_tidy using Question3.height_tidy\n",
    "    \n",
    "    height_melt = pd.melt(Question3.height_tidy, id_vars=[\"Rank\",\"Country Name\"],\n",
    "                          value_vars=Question3.height_tidy.columns[2:4],\n",
    "                         var_name=\"column\",\n",
    "                         value_name=\"Height in Cm\")\n",
    "    \n",
    "    height_melt[\"Height in Cm\"] != \"---\"\n",
    "    \n",
    "    height_melt[\"Sex\"] =  height_melt[\"column\"].str[0]\n",
    "    \n",
    "    height_melt=height_melt.drop(columns=\"column\")\n",
    "\n",
    "    # show that it works\n",
    "    display(height_melt)"
   ]
  },
  {
   "cell_type": "code",
   "execution_count": 15,
   "id": "ad467d4f",
   "metadata": {
    "deletable": false,
    "editable": false
   },
   "outputs": [
    {
     "data": {
      "text/html": [
       "<p><strong><pre style='display: inline;'>Question 4</pre></strong> passed! 🍀</p>"
      ],
      "text/plain": [
       "Question 4 results: All test cases passed!"
      ]
     },
     "execution_count": 15,
     "metadata": {},
     "output_type": "execute_result"
    }
   ],
   "source": [
    "grader.check(\"Question 4\")"
   ]
  },
  {
   "cell_type": "markdown",
   "id": "159b4c05",
   "metadata": {},
   "source": [
    "### C (4 points)\n",
    "We will work with data about billboards in the 2000s (as in the lecture)."
   ]
  },
  {
   "cell_type": "code",
   "execution_count": 37,
   "id": "144ecae8",
   "metadata": {},
   "outputs": [
    {
     "data": {
      "text/html": [
       "<div>\n",
       "<style scoped>\n",
       "    .dataframe tbody tr th:only-of-type {\n",
       "        vertical-align: middle;\n",
       "    }\n",
       "\n",
       "    .dataframe tbody tr th {\n",
       "        vertical-align: top;\n",
       "    }\n",
       "\n",
       "    .dataframe thead th {\n",
       "        text-align: right;\n",
       "    }\n",
       "</style>\n",
       "<table border=\"1\" class=\"dataframe\">\n",
       "  <thead>\n",
       "    <tr style=\"text-align: right;\">\n",
       "      <th></th>\n",
       "      <th>year</th>\n",
       "      <th>artist.inverted</th>\n",
       "      <th>track</th>\n",
       "      <th>time</th>\n",
       "      <th>genre</th>\n",
       "      <th>date</th>\n",
       "      <th>date.peaked</th>\n",
       "      <th>week</th>\n",
       "      <th>rank</th>\n",
       "    </tr>\n",
       "  </thead>\n",
       "  <tbody>\n",
       "    <tr>\n",
       "      <th>0</th>\n",
       "      <td>2000</td>\n",
       "      <td>Nelly</td>\n",
       "      <td>(Hot S**t) Country Grammar</td>\n",
       "      <td>4:17</td>\n",
       "      <td>Rap</td>\n",
       "      <td>2000-04-29</td>\n",
       "      <td>2000-09-16</td>\n",
       "      <td>1</td>\n",
       "      <td>100.0</td>\n",
       "    </tr>\n",
       "    <tr>\n",
       "      <th>1</th>\n",
       "      <td>2000</td>\n",
       "      <td>Nelly</td>\n",
       "      <td>(Hot S**t) Country Grammar</td>\n",
       "      <td>4:17</td>\n",
       "      <td>Rap</td>\n",
       "      <td>2000-05-06</td>\n",
       "      <td>2000-09-16</td>\n",
       "      <td>2</td>\n",
       "      <td>99.0</td>\n",
       "    </tr>\n",
       "    <tr>\n",
       "      <th>2</th>\n",
       "      <td>2000</td>\n",
       "      <td>Nelly</td>\n",
       "      <td>(Hot S**t) Country Grammar</td>\n",
       "      <td>4:17</td>\n",
       "      <td>Rap</td>\n",
       "      <td>2000-05-13</td>\n",
       "      <td>2000-09-16</td>\n",
       "      <td>3</td>\n",
       "      <td>96.0</td>\n",
       "    </tr>\n",
       "    <tr>\n",
       "      <th>3</th>\n",
       "      <td>2000</td>\n",
       "      <td>Nelly</td>\n",
       "      <td>(Hot S**t) Country Grammar</td>\n",
       "      <td>4:17</td>\n",
       "      <td>Rap</td>\n",
       "      <td>2000-05-20</td>\n",
       "      <td>2000-09-16</td>\n",
       "      <td>4</td>\n",
       "      <td>76.0</td>\n",
       "    </tr>\n",
       "    <tr>\n",
       "      <th>4</th>\n",
       "      <td>2000</td>\n",
       "      <td>Nelly</td>\n",
       "      <td>(Hot S**t) Country Grammar</td>\n",
       "      <td>4:17</td>\n",
       "      <td>Rap</td>\n",
       "      <td>2000-05-27</td>\n",
       "      <td>2000-09-16</td>\n",
       "      <td>5</td>\n",
       "      <td>55.0</td>\n",
       "    </tr>\n",
       "  </tbody>\n",
       "</table>\n",
       "</div>"
      ],
      "text/plain": [
       "   year artist.inverted                       track  time genre        date  \\\n",
       "0  2000           Nelly  (Hot S**t) Country Grammar  4:17   Rap  2000-04-29   \n",
       "1  2000           Nelly  (Hot S**t) Country Grammar  4:17   Rap  2000-05-06   \n",
       "2  2000           Nelly  (Hot S**t) Country Grammar  4:17   Rap  2000-05-13   \n",
       "3  2000           Nelly  (Hot S**t) Country Grammar  4:17   Rap  2000-05-20   \n",
       "4  2000           Nelly  (Hot S**t) Country Grammar  4:17   Rap  2000-05-27   \n",
       "\n",
       "  date.peaked  week   rank  \n",
       "0  2000-09-16     1  100.0  \n",
       "1  2000-09-16     2   99.0  \n",
       "2  2000-09-16     3   96.0  \n",
       "3  2000-09-16     4   76.0  \n",
       "4  2000-09-16     5   55.0  "
      ]
     },
     "execution_count": 37,
     "metadata": {},
     "output_type": "execute_result"
    }
   ],
   "source": [
    "billboard = pd.read_csv(\"billboard_intermediate.csv\")\n",
    "billboard.head()"
   ]
  },
  {
   "cell_type": "markdown",
   "id": "1e956b47",
   "metadata": {},
   "source": [
    "**Question 5:**: Manipulate the dataframe \"billboard\" into two dataframes that each store one observational unit.\n",
    "\n",
    "* Make a new dataframe \"billboard_songs\" that contains information about the songs\n",
    "    * It should contain these columns from the \"billboard\" dataframe: \"artist.inverted\", \"track\", \"time\", \"genre\"\n",
    "* Make a new dataframe \"billboard_charts\" that contains information about the chart performance of the songs\n",
    "    * It should contain these columns from the \"billboard\" dataframe: \"date\", \"date.peaked\", \"week\", \"rank\"\n",
    "* Additionally, both dataframes should contain a column named \"track_id\" that gives each track a unique ID and links the information in the two dataframes.\n",
    "\n",
    "(Hint: Pandas has a function [.groupby().ngroup()](https://stackoverflow.com/questions/39665374/how-to-make-a-group-id-using-pandas) that could help you with the track id)"
   ]
  },
  {
   "cell_type": "code",
   "execution_count": 17,
   "id": "8565e2f0",
   "metadata": {
    "nbgrader": {
     "grade": false,
     "grade_id": "cell-262fb79928ed7861",
     "locked": false,
     "schema_version": 3,
     "solution": true,
     "task": false
    }
   },
   "outputs": [
    {
     "data": {
      "text/html": [
       "<div>\n",
       "<style scoped>\n",
       "    .dataframe tbody tr th:only-of-type {\n",
       "        vertical-align: middle;\n",
       "    }\n",
       "\n",
       "    .dataframe tbody tr th {\n",
       "        vertical-align: top;\n",
       "    }\n",
       "\n",
       "    .dataframe thead th {\n",
       "        text-align: right;\n",
       "    }\n",
       "</style>\n",
       "<table border=\"1\" class=\"dataframe\">\n",
       "  <thead>\n",
       "    <tr style=\"text-align: right;\">\n",
       "      <th></th>\n",
       "      <th>year</th>\n",
       "      <th>artist.inverted</th>\n",
       "      <th>track</th>\n",
       "      <th>time</th>\n",
       "      <th>genre</th>\n",
       "      <th>track_id</th>\n",
       "    </tr>\n",
       "  </thead>\n",
       "  <tbody>\n",
       "    <tr>\n",
       "      <th>0</th>\n",
       "      <td>2000</td>\n",
       "      <td>Nelly</td>\n",
       "      <td>(Hot S**t) Country Grammar</td>\n",
       "      <td>4:17</td>\n",
       "      <td>Rap</td>\n",
       "      <td>222</td>\n",
       "    </tr>\n",
       "    <tr>\n",
       "      <th>1</th>\n",
       "      <td>2000</td>\n",
       "      <td>Nelly</td>\n",
       "      <td>(Hot S**t) Country Grammar</td>\n",
       "      <td>4:17</td>\n",
       "      <td>Rap</td>\n",
       "      <td>222</td>\n",
       "    </tr>\n",
       "    <tr>\n",
       "      <th>2</th>\n",
       "      <td>2000</td>\n",
       "      <td>Nelly</td>\n",
       "      <td>(Hot S**t) Country Grammar</td>\n",
       "      <td>4:17</td>\n",
       "      <td>Rap</td>\n",
       "      <td>222</td>\n",
       "    </tr>\n",
       "    <tr>\n",
       "      <th>3</th>\n",
       "      <td>2000</td>\n",
       "      <td>Nelly</td>\n",
       "      <td>(Hot S**t) Country Grammar</td>\n",
       "      <td>4:17</td>\n",
       "      <td>Rap</td>\n",
       "      <td>222</td>\n",
       "    </tr>\n",
       "    <tr>\n",
       "      <th>4</th>\n",
       "      <td>2000</td>\n",
       "      <td>Nelly</td>\n",
       "      <td>(Hot S**t) Country Grammar</td>\n",
       "      <td>4:17</td>\n",
       "      <td>Rap</td>\n",
       "      <td>222</td>\n",
       "    </tr>\n",
       "    <tr>\n",
       "      <th>...</th>\n",
       "      <td>...</td>\n",
       "      <td>...</td>\n",
       "      <td>...</td>\n",
       "      <td>...</td>\n",
       "      <td>...</td>\n",
       "      <td>...</td>\n",
       "    </tr>\n",
       "    <tr>\n",
       "      <th>24087</th>\n",
       "      <td>2000</td>\n",
       "      <td>Jackson, Alan</td>\n",
       "      <td>www.memory</td>\n",
       "      <td>2:36</td>\n",
       "      <td>Country</td>\n",
       "      <td>139</td>\n",
       "    </tr>\n",
       "    <tr>\n",
       "      <th>24088</th>\n",
       "      <td>2000</td>\n",
       "      <td>Jackson, Alan</td>\n",
       "      <td>www.memory</td>\n",
       "      <td>2:36</td>\n",
       "      <td>Country</td>\n",
       "      <td>139</td>\n",
       "    </tr>\n",
       "    <tr>\n",
       "      <th>24089</th>\n",
       "      <td>2000</td>\n",
       "      <td>Jackson, Alan</td>\n",
       "      <td>www.memory</td>\n",
       "      <td>2:36</td>\n",
       "      <td>Country</td>\n",
       "      <td>139</td>\n",
       "    </tr>\n",
       "    <tr>\n",
       "      <th>24090</th>\n",
       "      <td>2000</td>\n",
       "      <td>Jackson, Alan</td>\n",
       "      <td>www.memory</td>\n",
       "      <td>2:36</td>\n",
       "      <td>Country</td>\n",
       "      <td>139</td>\n",
       "    </tr>\n",
       "    <tr>\n",
       "      <th>24091</th>\n",
       "      <td>2000</td>\n",
       "      <td>Jackson, Alan</td>\n",
       "      <td>www.memory</td>\n",
       "      <td>2:36</td>\n",
       "      <td>Country</td>\n",
       "      <td>139</td>\n",
       "    </tr>\n",
       "  </tbody>\n",
       "</table>\n",
       "<p>24092 rows × 6 columns</p>\n",
       "</div>"
      ],
      "text/plain": [
       "       year artist.inverted                       track  time    genre  \\\n",
       "0      2000           Nelly  (Hot S**t) Country Grammar  4:17      Rap   \n",
       "1      2000           Nelly  (Hot S**t) Country Grammar  4:17      Rap   \n",
       "2      2000           Nelly  (Hot S**t) Country Grammar  4:17      Rap   \n",
       "3      2000           Nelly  (Hot S**t) Country Grammar  4:17      Rap   \n",
       "4      2000           Nelly  (Hot S**t) Country Grammar  4:17      Rap   \n",
       "...     ...             ...                         ...   ...      ...   \n",
       "24087  2000   Jackson, Alan                  www.memory  2:36  Country   \n",
       "24088  2000   Jackson, Alan                  www.memory  2:36  Country   \n",
       "24089  2000   Jackson, Alan                  www.memory  2:36  Country   \n",
       "24090  2000   Jackson, Alan                  www.memory  2:36  Country   \n",
       "24091  2000   Jackson, Alan                  www.memory  2:36  Country   \n",
       "\n",
       "       track_id  \n",
       "0           222  \n",
       "1           222  \n",
       "2           222  \n",
       "3           222  \n",
       "4           222  \n",
       "...         ...  \n",
       "24087       139  \n",
       "24088       139  \n",
       "24089       139  \n",
       "24090       139  \n",
       "24091       139  \n",
       "\n",
       "[24092 rows x 6 columns]"
      ]
     },
     "metadata": {},
     "output_type": "display_data"
    },
    {
     "data": {
      "text/html": [
       "<div>\n",
       "<style scoped>\n",
       "    .dataframe tbody tr th:only-of-type {\n",
       "        vertical-align: middle;\n",
       "    }\n",
       "\n",
       "    .dataframe tbody tr th {\n",
       "        vertical-align: top;\n",
       "    }\n",
       "\n",
       "    .dataframe thead th {\n",
       "        text-align: right;\n",
       "    }\n",
       "</style>\n",
       "<table border=\"1\" class=\"dataframe\">\n",
       "  <thead>\n",
       "    <tr style=\"text-align: right;\">\n",
       "      <th></th>\n",
       "      <th>year</th>\n",
       "      <th>date</th>\n",
       "      <th>date.peaked</th>\n",
       "      <th>week</th>\n",
       "      <th>rank</th>\n",
       "      <th>track_id</th>\n",
       "    </tr>\n",
       "  </thead>\n",
       "  <tbody>\n",
       "    <tr>\n",
       "      <th>0</th>\n",
       "      <td>2000</td>\n",
       "      <td>2000-04-29</td>\n",
       "      <td>2000-09-16</td>\n",
       "      <td>1</td>\n",
       "      <td>100.0</td>\n",
       "      <td>222</td>\n",
       "    </tr>\n",
       "    <tr>\n",
       "      <th>1</th>\n",
       "      <td>2000</td>\n",
       "      <td>2000-05-06</td>\n",
       "      <td>2000-09-16</td>\n",
       "      <td>2</td>\n",
       "      <td>99.0</td>\n",
       "      <td>222</td>\n",
       "    </tr>\n",
       "    <tr>\n",
       "      <th>2</th>\n",
       "      <td>2000</td>\n",
       "      <td>2000-05-13</td>\n",
       "      <td>2000-09-16</td>\n",
       "      <td>3</td>\n",
       "      <td>96.0</td>\n",
       "      <td>222</td>\n",
       "    </tr>\n",
       "    <tr>\n",
       "      <th>3</th>\n",
       "      <td>2000</td>\n",
       "      <td>2000-05-20</td>\n",
       "      <td>2000-09-16</td>\n",
       "      <td>4</td>\n",
       "      <td>76.0</td>\n",
       "      <td>222</td>\n",
       "    </tr>\n",
       "    <tr>\n",
       "      <th>4</th>\n",
       "      <td>2000</td>\n",
       "      <td>2000-05-27</td>\n",
       "      <td>2000-09-16</td>\n",
       "      <td>5</td>\n",
       "      <td>55.0</td>\n",
       "      <td>222</td>\n",
       "    </tr>\n",
       "  </tbody>\n",
       "</table>\n",
       "</div>"
      ],
      "text/plain": [
       "   year        date date.peaked  week   rank  track_id\n",
       "0  2000  2000-04-29  2000-09-16     1  100.0       222\n",
       "1  2000  2000-05-06  2000-09-16     2   99.0       222\n",
       "2  2000  2000-05-13  2000-09-16     3   96.0       222\n",
       "3  2000  2000-05-20  2000-09-16     4   76.0       222\n",
       "4  2000  2000-05-27  2000-09-16     5   55.0       222"
      ]
     },
     "metadata": {},
     "output_type": "display_data"
    }
   ],
   "source": [
    "class Question5:\n",
    "    # First add the track id\n",
    "    billboard[\"track_id\"]=billboard.groupby([\"artist.inverted\",\"track\",\"time\",\"genre\"]).ngroup()\n",
    "    \n",
    "    # Now split the dataframe\n",
    "    \n",
    "    billboard_songs = billboard.drop(columns=[\"date\",\"date.peaked\",\"week\",\"rank\"])\n",
    "    display(billboard_songs)\n",
    "\n",
    "    billboard_charts = billboard.drop(columns=[\"artist.inverted\",\"track\",\"time\",\"genre\"])\n",
    "    display(billboard_charts.head())"
   ]
  },
  {
   "cell_type": "code",
   "execution_count": 18,
   "id": "603aa7f8",
   "metadata": {
    "deletable": false,
    "editable": false
   },
   "outputs": [
    {
     "data": {
      "text/html": [
       "<p><strong><pre style='display: inline;'>Question 5</pre></strong> passed! 🚀</p>"
      ],
      "text/plain": [
       "Question 5 results: All test cases passed!"
      ]
     },
     "execution_count": 18,
     "metadata": {},
     "output_type": "execute_result"
    }
   ],
   "source": [
    "grader.check(\"Question 5\")"
   ]
  },
  {
   "cell_type": "markdown",
   "id": "4e1b7078",
   "metadata": {},
   "source": [
    "## 2 - EDA (6 points)"
   ]
  },
  {
   "cell_type": "markdown",
   "id": "097b6cf7",
   "metadata": {},
   "source": [
    "### A (2 points)\n",
    "Let's answer one more question about billboard hits in the 2000s. Use the billboard, billboard_songs or billboard_charts dataframes from the previous tasks."
   ]
  },
  {
   "cell_type": "markdown",
   "id": "d564c37e",
   "metadata": {},
   "source": [
    "**Question 6**: What was the number one hit (rank = 1) on 2000/07/29? This question may seem random (and it is), but this is the 2000s! This is the day on which Jennifer Aniston married Brad Pitt. Did they play this song? Who knows.\n",
    "\n",
    "* Define one variable\n",
    "    * \"name_song\": Name of the song that was at rank 1 on the given date"
   ]
  },
  {
   "cell_type": "code",
   "execution_count": 64,
   "id": "99016627",
   "metadata": {
    "nbgrader": {
     "grade": false,
     "grade_id": "cell-75a4834772643fcd",
     "locked": false,
     "schema_version": 3,
     "solution": true,
     "task": false
    }
   },
   "outputs": [
    {
     "data": {
      "text/plain": [
       "\"It's Gonna Be Me\""
      ]
     },
     "metadata": {},
     "output_type": "display_data"
    }
   ],
   "source": [
    "class Question6:  \n",
    "    billboard_top=billboard[(billboard['date']=='2000-07-29') & (billboard['rank']==1)]\n",
    "    name_song = billboard_top[\"track\"].item()\n",
    "    display(name_song)"
   ]
  },
  {
   "cell_type": "code",
   "execution_count": 65,
   "id": "00cbd45d",
   "metadata": {
    "deletable": false,
    "editable": false
   },
   "outputs": [
    {
     "data": {
      "text/html": [
       "<p><strong><pre style='display: inline;'>Question 6</pre></strong> passed! 🚀</p>"
      ],
      "text/plain": [
       "Question 6 results: All test cases passed!"
      ]
     },
     "execution_count": 65,
     "metadata": {},
     "output_type": "execute_result"
    }
   ],
   "source": [
    "grader.check(\"Question 6\")"
   ]
  },
  {
   "cell_type": "markdown",
   "id": "b82c6de0",
   "metadata": {},
   "source": [
    "### 2b (4 points)\n",
    "Let's answer some questions about average heights. Use the height, height_tidy or height_melt dataframes from previous tasks."
   ]
  },
  {
   "cell_type": "markdown",
   "id": "bde0356f",
   "metadata": {},
   "source": [
    "**Question 7**: What's the country with the tallest men?\n",
    "\n",
    "* Define two variables\n",
    "    * \"country_tallest_men\": Name of the country of tallest men as a string\n",
    "    * \"height_tallest_men\": Average height of men in this country in cm\n",
    "\n",
    "(Hint: Pandas function max() can help here!)"
   ]
  },
  {
   "cell_type": "code",
   "execution_count": 109,
   "id": "b6af8a0a",
   "metadata": {
    "nbgrader": {
     "grade": false,
     "grade_id": "cell-4283fe78120f5a5d",
     "locked": false,
     "schema_version": 3,
     "solution": true,
     "task": false
    }
   },
   "outputs": [],
   "source": [
    "class Question7:\n",
    "    men=Question3.height_tidy.drop(columns=[\"Female Height in Cm\"])\n",
    "    sol=men[men[\"Male Height in Cm\"]==men[\"Male Height in Cm\"].max()]\n",
    "\n",
    "    country_tallest_men = sol[\"Country Name\"].item()\n",
    "    \n",
    "    sol2=men[men[\"Country Name\"]==country_tallest_men]\n",
    "    height_tallest_men = sol2[\"Male Height in Cm\"].mean().item()"
   ]
  },
  {
   "cell_type": "code",
   "execution_count": 110,
   "id": "6c1e42d0",
   "metadata": {
    "deletable": false,
    "editable": false
   },
   "outputs": [
    {
     "data": {
      "text/html": [
       "<p><strong><pre style='display: inline;'>Question 7</pre></strong> passed! 🚀</p>"
      ],
      "text/plain": [
       "Question 7 results: All test cases passed!"
      ]
     },
     "execution_count": 110,
     "metadata": {},
     "output_type": "execute_result"
    }
   ],
   "source": [
    "grader.check(\"Question 7\")"
   ]
  },
  {
   "cell_type": "markdown",
   "id": "db5894a9",
   "metadata": {},
   "source": [
    "**Question8**: In which country is the difference of average heights between men and women largest?\n",
    "\n",
    "* Define two variables\n",
    "    * \"country_largest_difference\": Name of the country where the average height difference between men and women is largest\n",
    "    * \"largest_difference\": Difference of average heights of men and women in this country in cm"
   ]
  },
  {
   "cell_type": "code",
   "execution_count": 118,
   "id": "c280a5a4",
   "metadata": {
    "nbgrader": {
     "grade": false,
     "grade_id": "cell-4e575ca703ccbd4e",
     "locked": false,
     "schema_version": 3,
     "solution": true,
     "task": false
    }
   },
   "outputs": [],
   "source": [
    "class Question8:\n",
    "    diff=Question3.height_tidy\n",
    "    diff[\"difference\"]=diff[\"Male Height in Cm\"]-diff[\"Female Height in Cm\"]\n",
    "    sol=diff[diff[\"difference\"]==diff[\"difference\"].max()]\n",
    "\n",
    "    country_largest_difference = sol[\"Country Name\"].item()\n",
    "    largest_difference = sol[\"difference\"].item()"
   ]
  },
  {
   "cell_type": "code",
   "execution_count": 119,
   "id": "382f16b9",
   "metadata": {
    "deletable": false,
    "editable": false
   },
   "outputs": [
    {
     "data": {
      "text/html": [
       "<p><strong><pre style='display: inline;'>Question 8</pre></strong> passed! 🚀</p>"
      ],
      "text/plain": [
       "Question 8 results: All test cases passed!"
      ]
     },
     "execution_count": 119,
     "metadata": {},
     "output_type": "execute_result"
    }
   ],
   "source": [
    "grader.check(\"Question 8\")"
   ]
  },
  {
   "cell_type": "markdown",
   "id": "b62f9590",
   "metadata": {},
   "source": [
    "**Question 9**: What's (Pearson's) correlation value of average male and average female height?\n",
    "\n",
    "* Define a new variable \"corr_avg_heights\" that contains the correlation value of average male and female heights\n",
    "\n",
    "(Hint: Use Panda's function corr().)"
   ]
  },
  {
   "cell_type": "code",
   "execution_count": 127,
   "id": "1b4d27b8",
   "metadata": {
    "nbgrader": {
     "grade": false,
     "grade_id": "cell-b5438d2320f5d36d",
     "locked": false,
     "schema_version": 3,
     "solution": true,
     "task": false
    }
   },
   "outputs": [
    {
     "data": {
      "text/plain": [
       "0.9287870871294992"
      ]
     },
     "metadata": {},
     "output_type": "display_data"
    }
   ],
   "source": [
    "class Question9:\n",
    "    corr_avg_heights = Question3.height_tidy[[\"Male Height in Cm\", \"Female Height in Cm\"]].corr().iat[1,0]"
   ]
  },
  {
   "cell_type": "code",
   "execution_count": 128,
   "id": "10167f1b",
   "metadata": {
    "deletable": false,
    "editable": false
   },
   "outputs": [
    {
     "data": {
      "text/html": [
       "<p><strong><pre style='display: inline;'>Question 9</pre></strong> passed! 🎉</p>"
      ],
      "text/plain": [
       "Question 9 results: All test cases passed!"
      ]
     },
     "execution_count": 128,
     "metadata": {},
     "output_type": "execute_result"
    }
   ],
   "source": [
    "grader.check(\"Question 9\")"
   ]
  },
  {
   "cell_type": "markdown",
   "id": "0bcf9745",
   "metadata": {
    "deletable": false,
    "editable": false
   },
   "source": [
    "---\n",
    "\n",
    "To double-check your work, the cell below will rerun all of the autograder tests."
   ]
  },
  {
   "cell_type": "code",
   "execution_count": 129,
   "id": "de9e3543",
   "metadata": {
    "deletable": false,
    "editable": false
   },
   "outputs": [
    {
     "data": {
      "text/plain": [
       "Question 1 results: All test cases passed!\n",
       "\n",
       "Question 2 results: All test cases passed!\n",
       "\n",
       "Question 3 results: All test cases passed!\n",
       "\n",
       "Question 4 results: All test cases passed!\n",
       "\n",
       "Question 5 results: All test cases passed!\n",
       "\n",
       "Question 6 results: All test cases passed!\n",
       "\n",
       "Question 7 results: All test cases passed!\n",
       "\n",
       "Question 8 results: All test cases passed!\n",
       "\n",
       "Question 9 results: All test cases passed!"
      ]
     },
     "execution_count": 129,
     "metadata": {},
     "output_type": "execute_result"
    }
   ],
   "source": [
    "grader.check_all()"
   ]
  },
  {
   "cell_type": "markdown",
   "id": "67118ead-2870-4865-8392-1590ee4b4978",
   "metadata": {
    "deletable": false
   },
   "source": [
    "## Submission\n",
    "\n",
    "Please download this notebook as a .ipynb file and submit it on Adam. To download the notebook choose \n",
    "> File->Download as->Notebook (.ipynb)\n",
    "\n",
    "in the menu."
   ]
  },
  {
   "cell_type": "code",
   "execution_count": null,
   "id": "5366d052",
   "metadata": {},
   "outputs": [],
   "source": []
  }
 ],
 "metadata": {
  "celltoolbar": "Edit Metadata",
  "kernelspec": {
   "display_name": "Python [conda env:pids_2023]",
   "language": "python",
   "name": "conda-env-pids_2023-py"
  },
  "language_info": {
   "codemirror_mode": {
    "name": "ipython",
    "version": 3
   },
   "file_extension": ".py",
   "mimetype": "text/x-python",
   "name": "python",
   "nbconvert_exporter": "python",
   "pygments_lexer": "ipython3",
   "version": "3.11.0"
  }
 },
 "nbformat": 4,
 "nbformat_minor": 5
}
